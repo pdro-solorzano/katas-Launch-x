{
 "cells": [
  {
   "cell_type": "markdown",
   "metadata": {},
   "source": [
    "# Practicas Excepciones"
   ]
  },
  {
   "cell_type": "markdown",
   "metadata": {},
   "source": [
    "## Excepciones archivo"
   ]
  },
  {
   "cell_type": "code",
   "execution_count": 1,
   "metadata": {},
   "outputs": [],
   "source": [
    "def main():\n",
    "    try:\n",
    "        configuration = open('config.txt')\n",
    "    except FileNotFoundError:\n",
    "        print(\"No se encuentra el archivo config.txt!\")\n",
    "    except IsADirectoryError:\n",
    "        print(\"Se encontro config.txt pero es un directorio, no se puede abir\")\n",
    "    except (BlockingIOError, TimeoutError):\n",
    "        print(\"Sistema de archivos ocupado, no se puede completar la accion\")\n",
    "    except PermissionError as err:\n",
    "        print(\"No se cuenta con los permisos necesarios para realizar la accion: \", err)"
   ]
  },
  {
   "cell_type": "code",
   "execution_count": 2,
   "metadata": {},
   "outputs": [
    {
     "name": "stdout",
     "output_type": "stream",
     "text": [
      "No se encuentra el archivo config.txt!\n"
     ]
    }
   ],
   "source": [
    "main()"
   ]
  },
  {
   "cell_type": "markdown",
   "metadata": {},
   "source": [
    "## Excepciones Agua restante"
   ]
  },
  {
   "cell_type": "code",
   "execution_count": 9,
   "metadata": {},
   "outputs": [],
   "source": [
    "def agua_restante (astronautas, agua_restante, dias_restantes):\n",
    "    uso_diario = astronautas * 11\n",
    "    total_uso = uso_diario * dias_restantes\n",
    "    total_agua_restante = agua_restante - total_uso\n",
    "    if total_agua_restante < 0:\n",
    "        raise RuntimeError(f\"No hay suficiente agua para {astronautas} astronautas despues de {dias_restantes} dias!\")\n",
    "    return f\"Agua restante despues de {dias_restantes} dias es: {total_agua_restante} litros\"\n"
   ]
  },
  {
   "cell_type": "code",
   "execution_count": 10,
   "metadata": {},
   "outputs": [
    {
     "ename": "RuntimeError",
     "evalue": "No hay suficiente agua para 5 astronautas despues de 2 dias!",
     "output_type": "error",
     "traceback": [
      "\u001b[1;31m---------------------------------------------------------------------------\u001b[0m",
      "\u001b[1;31mRuntimeError\u001b[0m                              Traceback (most recent call last)",
      "\u001b[1;32mc:\\Users\\ryzen 5\\Documents\\Launch X\\katas-propias\\modulo10-kata.ipynb Cell 7'\u001b[0m in \u001b[0;36m<module>\u001b[1;34m\u001b[0m\n\u001b[1;32m----> <a href='vscode-notebook-cell:/c%3A/Users/ryzen%205/Documents/Launch%20X/katas-propias/modulo10-kata.ipynb#ch0000007?line=0'>1</a>\u001b[0m agua_restante(\u001b[39m5\u001b[39;49m, \u001b[39m100\u001b[39;49m, \u001b[39m2\u001b[39;49m)\n",
      "\u001b[1;32mc:\\Users\\ryzen 5\\Documents\\Launch X\\katas-propias\\modulo10-kata.ipynb Cell 6'\u001b[0m in \u001b[0;36magua_restante\u001b[1;34m(astronautas, agua_restante, dias_restantes)\u001b[0m\n\u001b[0;32m      <a href='vscode-notebook-cell:/c%3A/Users/ryzen%205/Documents/Launch%20X/katas-propias/modulo10-kata.ipynb#ch0000006?line=3'>4</a>\u001b[0m total_agua_restante \u001b[39m=\u001b[39m agua_restante \u001b[39m-\u001b[39m total_uso\n\u001b[0;32m      <a href='vscode-notebook-cell:/c%3A/Users/ryzen%205/Documents/Launch%20X/katas-propias/modulo10-kata.ipynb#ch0000006?line=4'>5</a>\u001b[0m \u001b[39mif\u001b[39;00m total_agua_restante \u001b[39m<\u001b[39m \u001b[39m0\u001b[39m:\n\u001b[1;32m----> <a href='vscode-notebook-cell:/c%3A/Users/ryzen%205/Documents/Launch%20X/katas-propias/modulo10-kata.ipynb#ch0000006?line=5'>6</a>\u001b[0m     \u001b[39mraise\u001b[39;00m \u001b[39mRuntimeError\u001b[39;00m(\u001b[39mf\u001b[39m\u001b[39m\"\u001b[39m\u001b[39mNo hay suficiente agua para \u001b[39m\u001b[39m{\u001b[39;00mastronautas\u001b[39m}\u001b[39;00m\u001b[39m astronautas despues de \u001b[39m\u001b[39m{\u001b[39;00mdias_restantes\u001b[39m}\u001b[39;00m\u001b[39m dias!\u001b[39m\u001b[39m\"\u001b[39m)\n\u001b[0;32m      <a href='vscode-notebook-cell:/c%3A/Users/ryzen%205/Documents/Launch%20X/katas-propias/modulo10-kata.ipynb#ch0000006?line=6'>7</a>\u001b[0m \u001b[39mreturn\u001b[39;00m \u001b[39mf\u001b[39m\u001b[39m\"\u001b[39m\u001b[39mAgua restante despues de \u001b[39m\u001b[39m{\u001b[39;00mdias_restantes\u001b[39m}\u001b[39;00m\u001b[39m dias es: \u001b[39m\u001b[39m{\u001b[39;00mtotal_agua_restante\u001b[39m}\u001b[39;00m\u001b[39m litros\u001b[39m\u001b[39m\"\u001b[39m\n",
      "\u001b[1;31mRuntimeError\u001b[0m: No hay suficiente agua para 5 astronautas despues de 2 dias!"
     ]
    }
   ],
   "source": [
    "agua_restante(5, 100, 2)"
   ]
  },
  {
   "cell_type": "markdown",
   "metadata": {},
   "source": [
    "### Manejo de excepcion funcion agua_restante"
   ]
  },
  {
   "cell_type": "code",
   "execution_count": 11,
   "metadata": {},
   "outputs": [
    {
     "name": "stdout",
     "output_type": "stream",
     "text": [
      "No hay suficiente agua para 5 astronautas despues de 2 dias!\n"
     ]
    }
   ],
   "source": [
    "try:\n",
    "    agua_restante(5, 100, 2)\n",
    "except RuntimeError as err:\n",
    "    print(err)"
   ]
  },
  {
   "cell_type": "code",
   "execution_count": 12,
   "metadata": {},
   "outputs": [
    {
     "ename": "TypeError",
     "evalue": "can't multiply sequence by non-int of type 'NoneType'",
     "output_type": "error",
     "traceback": [
      "\u001b[1;31m---------------------------------------------------------------------------\u001b[0m",
      "\u001b[1;31mTypeError\u001b[0m                                 Traceback (most recent call last)",
      "\u001b[1;32mc:\\Users\\ryzen 5\\Documents\\Launch X\\katas-propias\\modulo10-kata.ipynb Cell 10'\u001b[0m in \u001b[0;36m<module>\u001b[1;34m\u001b[0m\n\u001b[1;32m----> <a href='vscode-notebook-cell:/c%3A/Users/ryzen%205/Documents/Launch%20X/katas-propias/modulo10-kata.ipynb#ch0000010?line=0'>1</a>\u001b[0m agua_restante(\u001b[39m\"\u001b[39;49m\u001b[39m3\u001b[39;49m\u001b[39m\"\u001b[39;49m, \u001b[39m'\u001b[39;49m\u001b[39m200\u001b[39;49m\u001b[39m'\u001b[39;49m, \u001b[39mNone\u001b[39;49;00m)\n",
      "\u001b[1;32mc:\\Users\\ryzen 5\\Documents\\Launch X\\katas-propias\\modulo10-kata.ipynb Cell 6'\u001b[0m in \u001b[0;36magua_restante\u001b[1;34m(astronautas, agua_restante, dias_restantes)\u001b[0m\n\u001b[0;32m      <a href='vscode-notebook-cell:/c%3A/Users/ryzen%205/Documents/Launch%20X/katas-propias/modulo10-kata.ipynb#ch0000006?line=0'>1</a>\u001b[0m \u001b[39mdef\u001b[39;00m \u001b[39magua_restante\u001b[39m (astronautas, agua_restante, dias_restantes):\n\u001b[0;32m      <a href='vscode-notebook-cell:/c%3A/Users/ryzen%205/Documents/Launch%20X/katas-propias/modulo10-kata.ipynb#ch0000006?line=1'>2</a>\u001b[0m     uso_diario \u001b[39m=\u001b[39m astronautas \u001b[39m*\u001b[39m \u001b[39m11\u001b[39m\n\u001b[1;32m----> <a href='vscode-notebook-cell:/c%3A/Users/ryzen%205/Documents/Launch%20X/katas-propias/modulo10-kata.ipynb#ch0000006?line=2'>3</a>\u001b[0m     total_uso \u001b[39m=\u001b[39m uso_diario \u001b[39m*\u001b[39;49m dias_restantes\n\u001b[0;32m      <a href='vscode-notebook-cell:/c%3A/Users/ryzen%205/Documents/Launch%20X/katas-propias/modulo10-kata.ipynb#ch0000006?line=3'>4</a>\u001b[0m     total_agua_restante \u001b[39m=\u001b[39m agua_restante \u001b[39m-\u001b[39m total_uso\n\u001b[0;32m      <a href='vscode-notebook-cell:/c%3A/Users/ryzen%205/Documents/Launch%20X/katas-propias/modulo10-kata.ipynb#ch0000006?line=4'>5</a>\u001b[0m     \u001b[39mif\u001b[39;00m total_agua_restante \u001b[39m<\u001b[39m \u001b[39m0\u001b[39m:\n",
      "\u001b[1;31mTypeError\u001b[0m: can't multiply sequence by non-int of type 'NoneType'"
     ]
    }
   ],
   "source": [
    "agua_restante(\"3\", '200', None)"
   ]
  },
  {
   "cell_type": "code",
   "execution_count": 13,
   "metadata": {},
   "outputs": [],
   "source": [
    "def agua_restante (astronautas, agua_restante, dias_restantes):\n",
    "    for argument in [astronautas, agua_restante, dias_restantes]:\n",
    "        try:\n",
    "            argument / 10\n",
    "        except TypeError:\n",
    "            raise TypeError(f\"Todos los argumentos deben ser de tipo int, pero se ingreso: '{argument}'\")\n",
    "    uso_diario = astronautas * 11\n",
    "    total_uso = uso_diario * dias_restantes\n",
    "    total_agua_restante = agua_restante - total_uso\n",
    "    if total_agua_restante < 0:\n",
    "        raise RuntimeError(f\"No hay suficiente agua para {astronautas} astronautas despues de {dias_restantes} dias!\")\n",
    "    return f\"Agua restante despues de {dias_restantes} dias es: {total_agua_restante} litros\"\n"
   ]
  },
  {
   "cell_type": "code",
   "execution_count": 14,
   "metadata": {},
   "outputs": [
    {
     "ename": "TypeError",
     "evalue": "Todos los argumentos deben ser de tipo int, pero se ingreso: '3'",
     "output_type": "error",
     "traceback": [
      "\u001b[1;31m---------------------------------------------------------------------------\u001b[0m",
      "\u001b[1;31mTypeError\u001b[0m                                 Traceback (most recent call last)",
      "\u001b[1;32mc:\\Users\\ryzen 5\\Documents\\Launch X\\katas-propias\\modulo10-kata.ipynb Cell 11'\u001b[0m in \u001b[0;36magua_restante\u001b[1;34m(astronautas, agua_restante, dias_restantes)\u001b[0m\n\u001b[0;32m      <a href='vscode-notebook-cell:/c%3A/Users/ryzen%205/Documents/Launch%20X/katas-propias/modulo10-kata.ipynb#ch0000011?line=2'>3</a>\u001b[0m \u001b[39mtry\u001b[39;00m:\n\u001b[1;32m----> <a href='vscode-notebook-cell:/c%3A/Users/ryzen%205/Documents/Launch%20X/katas-propias/modulo10-kata.ipynb#ch0000011?line=3'>4</a>\u001b[0m     argument \u001b[39m/\u001b[39;49m \u001b[39m10\u001b[39;49m\n\u001b[0;32m      <a href='vscode-notebook-cell:/c%3A/Users/ryzen%205/Documents/Launch%20X/katas-propias/modulo10-kata.ipynb#ch0000011?line=4'>5</a>\u001b[0m \u001b[39mexcept\u001b[39;00m \u001b[39mTypeError\u001b[39;00m:\n",
      "\u001b[1;31mTypeError\u001b[0m: unsupported operand type(s) for /: 'str' and 'int'",
      "\nDuring handling of the above exception, another exception occurred:\n",
      "\u001b[1;31mTypeError\u001b[0m                                 Traceback (most recent call last)",
      "\u001b[1;32mc:\\Users\\ryzen 5\\Documents\\Launch X\\katas-propias\\modulo10-kata.ipynb Cell 12'\u001b[0m in \u001b[0;36m<module>\u001b[1;34m\u001b[0m\n\u001b[1;32m----> <a href='vscode-notebook-cell:/c%3A/Users/ryzen%205/Documents/Launch%20X/katas-propias/modulo10-kata.ipynb#ch0000012?line=0'>1</a>\u001b[0m agua_restante(\u001b[39m'\u001b[39;49m\u001b[39m3\u001b[39;49m\u001b[39m'\u001b[39;49m, \u001b[39m'\u001b[39;49m\u001b[39m200\u001b[39;49m\u001b[39m'\u001b[39;49m, \u001b[39mNone\u001b[39;49;00m)\n",
      "\u001b[1;32mc:\\Users\\ryzen 5\\Documents\\Launch X\\katas-propias\\modulo10-kata.ipynb Cell 11'\u001b[0m in \u001b[0;36magua_restante\u001b[1;34m(astronautas, agua_restante, dias_restantes)\u001b[0m\n\u001b[0;32m      <a href='vscode-notebook-cell:/c%3A/Users/ryzen%205/Documents/Launch%20X/katas-propias/modulo10-kata.ipynb#ch0000011?line=3'>4</a>\u001b[0m         argument \u001b[39m/\u001b[39m \u001b[39m10\u001b[39m\n\u001b[0;32m      <a href='vscode-notebook-cell:/c%3A/Users/ryzen%205/Documents/Launch%20X/katas-propias/modulo10-kata.ipynb#ch0000011?line=4'>5</a>\u001b[0m     \u001b[39mexcept\u001b[39;00m \u001b[39mTypeError\u001b[39;00m:\n\u001b[1;32m----> <a href='vscode-notebook-cell:/c%3A/Users/ryzen%205/Documents/Launch%20X/katas-propias/modulo10-kata.ipynb#ch0000011?line=5'>6</a>\u001b[0m         \u001b[39mraise\u001b[39;00m \u001b[39mTypeError\u001b[39;00m(\u001b[39mf\u001b[39m\u001b[39m\"\u001b[39m\u001b[39mTodos los argumentos deben ser de tipo int, pero se ingreso: \u001b[39m\u001b[39m'\u001b[39m\u001b[39m{\u001b[39;00margument\u001b[39m}\u001b[39;00m\u001b[39m'\u001b[39m\u001b[39m\"\u001b[39m)\n\u001b[0;32m      <a href='vscode-notebook-cell:/c%3A/Users/ryzen%205/Documents/Launch%20X/katas-propias/modulo10-kata.ipynb#ch0000011?line=6'>7</a>\u001b[0m uso_diario \u001b[39m=\u001b[39m astronautas \u001b[39m*\u001b[39m \u001b[39m11\u001b[39m\n\u001b[0;32m      <a href='vscode-notebook-cell:/c%3A/Users/ryzen%205/Documents/Launch%20X/katas-propias/modulo10-kata.ipynb#ch0000011?line=7'>8</a>\u001b[0m total_uso \u001b[39m=\u001b[39m uso_diario \u001b[39m*\u001b[39m dias_restantes\n",
      "\u001b[1;31mTypeError\u001b[0m: Todos los argumentos deben ser de tipo int, pero se ingreso: '3'"
     ]
    }
   ],
   "source": [
    "agua_restante('3', '200', None)"
   ]
  }
 ],
 "metadata": {
  "interpreter": {
   "hash": "4a553e5f936e65aef7ec98cd3e1fb1e42b9d170b1d65a8f490d7d1f13651b4d5"
  },
  "kernelspec": {
   "display_name": "Python 3.8.6 64-bit",
   "language": "python",
   "name": "python3"
  },
  "language_info": {
   "codemirror_mode": {
    "name": "ipython",
    "version": 3
   },
   "file_extension": ".py",
   "mimetype": "text/x-python",
   "name": "python",
   "nbconvert_exporter": "python",
   "pygments_lexer": "ipython3",
   "version": "3.8.6"
  },
  "orig_nbformat": 4
 },
 "nbformat": 4,
 "nbformat_minor": 2
}
